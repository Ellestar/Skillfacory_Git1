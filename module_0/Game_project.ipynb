{
 "cells": [
  {
   "cell_type": "code",
   "execution_count": 2,
   "metadata": {},
   "outputs": [
    {
     "name": "stdout",
     "output_type": "stream",
     "text": [
      "Ваш алгоритм угадывает число в среднем за 5 попыток\n"
     ]
    },
    {
     "data": {
      "text/plain": [
       "5"
      ]
     },
     "execution_count": 2,
     "metadata": {},
     "output_type": "execute_result"
    }
   ],
   "source": [
    "import numpy as np\n",
    "\n",
    "MIN_NUMBER = 1\n",
    "MAX_NUMBER = 100\n",
    "\n",
    "def game_core_binary(number):\n",
    "    '''Угадываем число двоичным поиском\n",
    "       Функция принимает загаданное число и возвращает число попыток'''\n",
    "    count = 0\n",
    "    min_predict = MIN_NUMBER\n",
    "    max_predict = MAX_NUMBER\n",
    "    \n",
    "    while True:\n",
    "        count += 1\n",
    "        predict = (min_predict + max_predict) // 2\n",
    "        \n",
    "        if predict == number:\n",
    "            return count\n",
    "        elif number < predict:\n",
    "            max_predict = predict - 1\n",
    "        else:\n",
    "            min_predict = predict + 1\n",
    "\n",
    "        if min_predict == max_predict: # если остался интервал - одно число, то мы уже знаем ответ\n",
    "            return count\n",
    "            \n",
    "            \n",
    "def score_game(game_core):\n",
    "    '''Запускаем игру 1000 раз, чтобы узнать, как быстро игра угадывает число'''\n",
    "    count_ls = []\n",
    "    np.random.seed(1)  # фиксируем RANDOM SEED, чтобы ваш эксперимент был воспроизводим!\n",
    "    random_array = np.random.randint(MIN_NUMBER, MAX_NUMBER + 1, size=(1000))\n",
    "    for number in random_array:\n",
    "        count_ls.append(game_core(number))\n",
    "    score = int(np.mean(count_ls))\n",
    "    print(f\"Ваш алгоритм угадывает число в среднем за {score} попыток\")\n",
    "    return(score)\n",
    "\n",
    "score_game(game_core_binary)"
   ]
  }
 ],
 "metadata": {
  "kernelspec": {
   "display_name": "Python 3",
   "language": "python",
   "name": "python3"
  },
  "language_info": {
   "codemirror_mode": {
    "name": "ipython",
    "version": 3
   },
   "file_extension": ".py",
   "mimetype": "text/x-python",
   "name": "python",
   "nbconvert_exporter": "python",
   "pygments_lexer": "ipython3",
   "version": "3.8.5"
  }
 },
 "nbformat": 4,
 "nbformat_minor": 4
}
